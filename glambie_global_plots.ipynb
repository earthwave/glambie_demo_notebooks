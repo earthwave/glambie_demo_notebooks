{
 "cells": [
  {
   "cell_type": "markdown",
   "metadata": {},
   "source": [
    "<img style=\"float: right;\" src=\"images/Earthwave_logo.png\" alt=\"earthwave\" width=\"90\"/> <img style=\"float: right;\" src=\"images/UZH_logo.jpg\" alt=\"uzh\" width=\"200\"/> <img style=\"float: right;\" src=\"images/ESA_logo.png\" alt=\"esa\" width=\"150\"/>"
   ]
  },
  {
   "cell_type": "markdown",
   "metadata": {},
   "source": [
    "<img src=\"images/GlaMBIE_logo.png\" alt=\"logo\" width=\"400\"/>"
   ]
  },
  {
   "cell_type": "markdown",
   "metadata": {},
   "source": [
    "#<strong><font color='#11847C'> Gla</font>cier <font color='#11847C'>M</font>ass <font color='#11847C'>B</font>alance <font color='#11847C'>I</font>ntercomparison <font color='#11847C'>E</font>xercise - *A community effort to reconcile measurements of glacier mass balance*</strong>"
   ]
  },
  {
   "cell_type": "markdown",
   "metadata": {},
   "source": [
    "##This Jupyter Notebook can be used to explore and visualise the final results from the Glacier Mass Balance Intercomparison Exercise (GlaMBIE). In the following code, you can produce plots that demonstrate the global results from the GlaMBIE project. You can also investigate the contributions from individual regions to the global picture."
   ]
  },
  {
   "cell_type": "markdown",
   "metadata": {},
   "source": [
    "<div>\n",
    "\n",
    "## <strong>Getting started</strong>\n",
    "</div>\n",
    "\n",
    "First, we import the necessary packages"
   ]
  },
  {
   "cell_type": "code",
   "execution_count": 1,
   "metadata": {},
   "outputs": [],
   "source": [
    "from google.cloud.storage import Client\n",
    "import pandas as pd\n",
    "import glob, os\n",
    "from pathlib import Path\n",
    "\n",
    "from helpers import glambie_regions_dropdown, derivative_to_cumulative\n",
    "from plotting import single_region_derivative_plot, single_region_cumulative_plot, region_comparison_plot\n",
    "\n",
    "import seaborn as sns\n",
    "sns.set_theme(palette='muted', style='whitegrid', font_scale=1.2)"
   ]
  },
  {
   "cell_type": "code",
   "execution_count": 2,
   "metadata": {},
   "outputs": [],
   "source": [
    "# This line is only necessary when running locally. Once data is available online, it will be downloaded in \n",
    "# above cell to the local Colab working directory, so won't need to add local path to the start of 'data_directory' below\n",
    "local_path = '/data/ox1/working/glambie/demo_notebooks'"
   ]
  },
  {
   "cell_type": "code",
   "execution_count": 4,
   "metadata": {},
   "outputs": [],
   "source": [
    "temporal_option = 'calendar_years'\n",
    "data_directory = os.path.join(local_path, 'glambie_csvs_to_publish_v3', temporal_option)"
   ]
  },
  {
   "cell_type": "code",
   "execution_count": 5,
   "metadata": {},
   "outputs": [],
   "source": [
    "global_dataframe = pd.read_csv(os.path.join(data_directory, '0_global.csv'))"
   ]
  }
 ],
 "metadata": {
  "kernelspec": {
   "display_name": "glambie",
   "language": "python",
   "name": "python3"
  },
  "language_info": {
   "codemirror_mode": {
    "name": "ipython",
    "version": 3
   },
   "file_extension": ".py",
   "mimetype": "text/x-python",
   "name": "python",
   "nbconvert_exporter": "python",
   "pygments_lexer": "ipython3",
   "version": "3.9.7"
  }
 },
 "nbformat": 4,
 "nbformat_minor": 2
}
