{
 "cells": [
  {
   "cell_type": "markdown",
   "metadata": {},
   "source": [
    "<img src=\"images/glambie_logos.png\" alt=\"logo\"/>"
   ]
  },
  {
   "cell_type": "markdown",
   "metadata": {},
   "source": [
    "#<strong><font color='#11847C'> Gla</font>cier <font color='#11847C'>M</font>ass <font color='#11847C'>B</font>alance <font color='#11847C'>I</font>ntercomparison <font color='#11847C'>E</font>xercise - *A community effort to reconcile measurements of glacier mass balance*</strong>"
   ]
  },
  {
   "cell_type": "markdown",
   "metadata": {},
   "source": [
    "##This Jupyter Notebook can be used to explore and visualise the final results from the Glacier Mass Balance Intercomparison Exercise (GlaMBIE). In the following code, you can produce plots that demonstrate the global results from the GlaMBIE project. You can also investigate the contributions from individual regions to the global picture."
   ]
  },
  {
   "cell_type": "markdown",
   "metadata": {},
   "source": [
    "<div>\n",
    "\n",
    "## <strong>Getting started</strong>\n",
    "</div>\n",
    "\n",
    "First, we import the necessary packages"
   ]
  },
  {
   "cell_type": "code",
   "execution_count": null,
   "metadata": {},
   "outputs": [],
   "source": [
    "# Only run when connected to colab - necessary to use the helpers and plotting modules imported below\n",
    "!git clone https://github.com/earthwave/glambie_demo_notebooks\n",
    "\n",
    "import os\n",
    "local_path = '/content/glambie_demo_notebooks' #for colab only\n",
    "os.chdir(local_path)"
   ]
  },
  {
   "cell_type": "code",
   "execution_count": null,
   "metadata": {},
   "outputs": [],
   "source": [
    "import pandas as pd\n",
    "import glob, os\n",
    "import seaborn as sns\n",
    "\n",
    "from glambie_demo_notebooks.helpers import glambie_regions_dropdown, glambie_years_dropdown, derivative_to_cumulative, load_all_region_dataframes\n",
    "from glambie_demo_notebooks.plotting import global_cumulative_plot, global_comparison_stacked_region_plot, histogram_of_region_contributions_to_global_loss_two_years, histogram_of_region_contributions_to_global_loss, histogram_of_region_contributions_to_global_loss_two_years, global_stacked_all_regions_plot\n",
    "\n",
    "sns.set_theme(palette='Set2', style='whitegrid', font_scale=1.2)\n",
    "colors_list = sns.color_palette(palette='Set3', n_colors=18, desat=0.9)"
   ]
  },
  {
   "cell_type": "code",
   "execution_count": null,
   "metadata": {},
   "outputs": [],
   "source": [
    "# This line is only needed when sharing the notebooks with GlaMBIE consortium - they will need to drag and drop the unpublished zip file into colab, and then unzip it to access data\n",
    "!unzip glambie_csvs_to_publish_v4.zip"
   ]
  },
  {
   "cell_type": "markdown",
   "metadata": {},
   "source": [
    "Each of the results files is downloaded to the current Colab working environment. You can inspect them if you click on the 'Folder' icon on the panel to the left."
   ]
  },
  {
   "cell_type": "markdown",
   "metadata": {},
   "source": [
    "<div>\n",
    "\n",
    "## <strong>Global ice loss</strong>\n",
    "</div>\n",
    "\n",
    "First, we will investigate the total loss of ice globally over the GlaMBIE time period (2000 - 2023)"
   ]
  },
  {
   "cell_type": "code",
   "execution_count": null,
   "metadata": {},
   "outputs": [],
   "source": [
    "#local_path = '/data/ox1/working/glambie/demo_notebooks'\n",
    "\n",
    "temporal_option = 'calendar_years'\n",
    "data_directory = os.path.join(local_path, 'glambie_csvs_to_publish_v4', temporal_option)"
   ]
  },
  {
   "cell_type": "markdown",
   "metadata": {},
   "source": [
    "Load the global results dataframe"
   ]
  },
  {
   "cell_type": "code",
   "execution_count": null,
   "metadata": {},
   "outputs": [],
   "source": [
    "global_dataframe = pd.read_csv(os.path.join(data_directory, '0_global.csv'))\n",
    "\n",
    "cumulative_data_all_gt = derivative_to_cumulative(global_dataframe.start_dates, global_dataframe.end_dates, global_dataframe.combined_gt)\n",
    "cumulative_errors_all_gt = derivative_to_cumulative(global_dataframe.start_dates, global_dataframe.end_dates, global_dataframe.combined_gt_errors, calculate_as_errors=True)"
   ]
  },
  {
   "cell_type": "markdown",
   "metadata": {},
   "source": [
    "The following plot shows the overall global change in glaciers, across the GlaMBIE study period of 2000 - 2023. The plot shows two metrics on separate y axes. On the left axis, the annual global rate of change (in m w.e. per year) is shown for each year, with uncertainties indicated. On the right axis, the global cumulative change in Gt is shown (1 Gt = 1,000,000,000,000 kg). "
   ]
  },
  {
   "cell_type": "code",
   "execution_count": null,
   "metadata": {},
   "outputs": [],
   "source": [
    "global_cumulative_plot(cumulative_data_all_gt, cumulative_errors_all_gt, global_dataframe, 'Gt')"
   ]
  },
  {
   "cell_type": "markdown",
   "metadata": {},
   "source": [
    "<div>\n",
    "\n",
    "## <strong>Contribution of individual regions to global picture</strong>\n",
    "</div>\n",
    "\n",
    "Next, you can choose three GlaMBIE regions to see their contributions to the total ice loss across the global. Use each dropdown to pick 3 RGI regions."
   ]
  },
  {
   "cell_type": "code",
   "execution_count": null,
   "metadata": {},
   "outputs": [],
   "source": [
    "# Add multiple regions to plot to see contributions to global change\n",
    "first_region = glambie_regions_dropdown()\n",
    "first_region"
   ]
  },
  {
   "cell_type": "code",
   "execution_count": null,
   "metadata": {},
   "outputs": [],
   "source": [
    "second_region = glambie_regions_dropdown()\n",
    "second_region"
   ]
  },
  {
   "cell_type": "code",
   "execution_count": null,
   "metadata": {},
   "outputs": [],
   "source": [
    "third_region = glambie_regions_dropdown()\n",
    "third_region"
   ]
  },
  {
   "cell_type": "code",
   "execution_count": null,
   "metadata": {},
   "outputs": [],
   "source": [
    "list_of_csvs = sorted(glob.glob(os.path.join(data_directory, '*.csv')))\n",
    "for filename in list_of_csvs:\n",
    "    if first_region.value in filename:\n",
    "        first_region_dataframe = pd.read_csv(filename)\n",
    "    if second_region.value in filename:\n",
    "        second_region_dataframe = pd.read_csv(filename)\n",
    "    if third_region.value in filename:\n",
    "        third_region_dataframe = pd.read_csv(filename)\n",
    "\n",
    "cumulative_data_first_region_gt = derivative_to_cumulative(first_region_dataframe.start_dates, first_region_dataframe.end_dates, first_region_dataframe.combined_gt)\n",
    "cumulative_errors_first_region_gt = derivative_to_cumulative(first_region_dataframe.start_dates, first_region_dataframe.end_dates, first_region_dataframe.combined_gt_errors, calculate_as_errors=True)\n",
    "\n",
    "cumulative_data_second_region_gt = derivative_to_cumulative(second_region_dataframe.start_dates, second_region_dataframe.end_dates, second_region_dataframe.combined_gt)\n",
    "cumulative_errors_second_region_gt = derivative_to_cumulative(second_region_dataframe.start_dates, second_region_dataframe.end_dates, second_region_dataframe.combined_gt_errors, calculate_as_errors=True)\n",
    "\n",
    "cumulative_data_third_region_gt = derivative_to_cumulative(third_region_dataframe.start_dates, third_region_dataframe.end_dates, third_region_dataframe.combined_gt)\n",
    "cumulative_errors_third_region_gt = derivative_to_cumulative(third_region_dataframe.start_dates, third_region_dataframe.end_dates, third_region_dataframe.combined_gt_errors, calculate_as_errors=True)"
   ]
  },
  {
   "cell_type": "markdown",
   "metadata": {},
   "source": [
    "The following plot again shows the global ice loss between 2000 and 2023. Additionally, it shows the contributions of each of the regions you selected above to this global picture. The cumulative changes for each region are stacked, and the shaded area shows their combined contribution to the global cumulative change."
   ]
  },
  {
   "cell_type": "code",
   "execution_count": null,
   "metadata": {},
   "outputs": [],
   "source": [
    "global_comparison_stacked_region_plot(cumulative_data_all_gt, cumulative_errors_all_gt, cumulative_data_first_region_gt, first_region.value, cumulative_data_second_region_gt, second_region.value, cumulative_data_third_region_gt, third_region.value,)"
   ]
  },
  {
   "cell_type": "markdown",
   "metadata": {},
   "source": [
    "<div>\n",
    "\n",
    "## <strong>Contributions of individual regions to the global change in a specific year</strong>\n",
    "</div>\n",
    "\n",
    "Finally, choose a single year from the GlaMBIE time coverage, and investigate the contribution from each region to the global change in this year"
   ]
  },
  {
   "cell_type": "code",
   "execution_count": null,
   "metadata": {},
   "outputs": [],
   "source": [
    "# Choose a year and see contribution from every region to global trend\n",
    "chosen_year = glambie_years_dropdown()\n",
    "chosen_year"
   ]
  },
  {
   "cell_type": "code",
   "execution_count": null,
   "metadata": {},
   "outputs": [],
   "source": [
    "glambie_dataframe_dict_cumulative, glambie_dataframe_dict_derivative = load_all_region_dataframes(data_directory)"
   ]
  },
  {
   "cell_type": "markdown",
   "metadata": {},
   "source": [
    "The following plot shows the percentage contribution of each GlaMBIE region to the global change up to your chosen date. "
   ]
  },
  {
   "cell_type": "code",
   "execution_count": null,
   "metadata": {},
   "outputs": [],
   "source": [
    "histogram_of_region_contributions_to_global_loss(glambie_dataframe_dict_cumulative, cumulative_data_all_gt, chosen_year.value, colors_list, type='cumulative')"
   ]
  },
  {
   "cell_type": "markdown",
   "metadata": {},
   "source": [
    "Choose a second year, to see in the final plot the difference in contributions from each region to the global pictures in your chosen years."
   ]
  },
  {
   "cell_type": "code",
   "execution_count": null,
   "metadata": {},
   "outputs": [],
   "source": [
    "comparsion_year = glambie_years_dropdown()\n",
    "comparsion_year"
   ]
  },
  {
   "cell_type": "code",
   "execution_count": null,
   "metadata": {},
   "outputs": [],
   "source": [
    "histogram_of_region_contributions_to_global_loss_two_years(glambie_dataframe_dict_cumulative, cumulative_data_all_gt, chosen_year.value, comparsion_year.value, type='cumulative')"
   ]
  },
  {
   "cell_type": "code",
   "execution_count": null,
   "metadata": {},
   "outputs": [],
   "source": [
    "# Alternatively, for histogram plots we can compare the change in each year, rather than cumulative to that date.\n",
    "histogram_of_region_contributions_to_global_loss(glambie_dataframe_dict_derivative, global_dataframe, chosen_year.value, colors_list, type='derivative')"
   ]
  },
  {
   "cell_type": "code",
   "execution_count": null,
   "metadata": {},
   "outputs": [],
   "source": [
    "histogram_of_region_contributions_to_global_loss_two_years(glambie_dataframe_dict_derivative, global_dataframe, chosen_year.value, comparsion_year.value, type='derivative')"
   ]
  },
  {
   "cell_type": "code",
   "execution_count": null,
   "metadata": {},
   "outputs": [],
   "source": [
    "# * Note for consortium - final plot option, all regions stacked compared to global cumulative change, is this useful?\n",
    "global_stacked_all_regions_plot(cumulative_data_all_gt, glambie_dataframe_dict_cumulative)"
   ]
  }
 ],
 "metadata": {
  "kernelspec": {
   "display_name": "glambie",
   "language": "python",
   "name": "python3"
  },
  "language_info": {
   "codemirror_mode": {
    "name": "ipython",
    "version": 3
   },
   "file_extension": ".py",
   "mimetype": "text/x-python",
   "name": "python",
   "nbconvert_exporter": "python",
   "pygments_lexer": "ipython3",
   "version": "3.9.7"
  }
 },
 "nbformat": 4,
 "nbformat_minor": 2
}
