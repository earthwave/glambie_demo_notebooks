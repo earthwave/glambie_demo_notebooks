{
 "cells": [
  {
   "cell_type": "markdown",
   "metadata": {},
   "source": [
    "<img src=\"images/glambie_logos.png\" alt=\"logo\"/>"
   ]
  },
  {
   "cell_type": "markdown",
   "metadata": {},
   "source": [
    "#<strong><font color='#11847C'> Gla</font>cier <font color='#11847C'>M</font>ass <font color='#11847C'>B</font>alance <font color='#11847C'>I</font>ntercomparison <font color='#11847C'>E</font>xercise - *A community effort to reconcile measurements of glacier mass balance*</strong>"
   ]
  },
  {
   "cell_type": "markdown",
   "metadata": {},
   "source": [
    "##This Jupyter Notebook can be used to explore and visualise the final results from the Glacier Mass Balance Intercomparison Exercise (GlaMBIE). In the following code, you can choose from the 19 regions covered by the GlaMBIE project, and investigate the findings, including a comparison of the mass change measured in different regions."
   ]
  },
  {
   "cell_type": "markdown",
   "metadata": {},
   "source": [
    "<div>\n",
    "\n",
    "## <strong>Getting started</strong>\n",
    "</div>\n",
    "\n",
    "First, we import the necessary packages"
   ]
  },
  {
   "cell_type": "code",
   "execution_count": null,
   "metadata": {},
   "outputs": [],
   "source": [
    "!git clone https://github.com/earthwave/glambie_demo_notebooks\n",
    "\n",
    "import os\n",
    "local_path = '/content/glambie_demo_notebooks'\n",
    "os.chdir(local_path)"
   ]
  },
  {
   "cell_type": "code",
   "execution_count": 1,
   "metadata": {},
   "outputs": [],
   "source": [
    "import pandas as pd\n",
    "import glob, os\n",
    "\n",
    "from glambie_demo_notebooks.helpers import glambie_regions_dropdown, derivative_to_cumulative\n",
    "from glambie_demo_notebooks.plotting import single_region_derivative_plot, single_region_cumulative_plot, two_region_comparison_plot\n",
    "\n",
    "import seaborn as sns\n",
    "sns.set_theme(palette='Set2', style='whitegrid', font_scale=1.2)"
   ]
  },
  {
   "cell_type": "markdown",
   "metadata": {},
   "source": [
    "Next, load the GlaMBIE results into this Colab instance"
   ]
  },
  {
   "cell_type": "code",
   "execution_count": null,
   "metadata": {},
   "outputs": [],
   "source": [
    "# This line is only needed when sharing the notebooks with GlaMBIE consortium - they will need to drag and drop the unpublished zip file into colab, and then unzip it to access data\n",
    "# We will replace this step with a download link when the data has been published\n",
    "!unzip glambie_csvs_to_publish_v4.zip"
   ]
  },
  {
   "cell_type": "markdown",
   "metadata": {},
   "source": [
    "Each of the results files is downloaded to the current Colab working environment. You can inspect them if you click on the 'Folder' icon on the panel to the left."
   ]
  },
  {
   "cell_type": "markdown",
   "metadata": {},
   "source": [
    "<div>\n",
    "\n",
    "## <strong>Choose a region</strong>\n",
    "</div>\n",
    "\n",
    "In this section, you can pick from the 19 RGI regions. The region that you chose will be read in from file."
   ]
  },
  {
   "cell_type": "code",
   "execution_count": null,
   "metadata": {},
   "outputs": [],
   "source": [
    "temporal_option = 'hydrological_years'\n",
    "data_directory = os.path.join(local_path, 'glambie_csvs_to_publish_v4', temporal_option)\n",
    "\n",
    "list_of_csvs = sorted(glob.glob(os.path.join(data_directory, '*.csv')))"
   ]
  },
  {
   "cell_type": "markdown",
   "metadata": {},
   "source": [
    "Run this cell to select a GlaMBIE region from the dropdown list of options"
   ]
  },
  {
   "cell_type": "code",
   "execution_count": null,
   "metadata": {},
   "outputs": [],
   "source": [
    "# Use the dropdown menu to choose a region for analysis:\n",
    "region = glambie_regions_dropdown()\n",
    "region"
   ]
  },
  {
   "cell_type": "markdown",
   "metadata": {},
   "source": [
    "The following plot shows the change in elevation of your chosen region, for each year in the GlaMBIE study period (2000 - 2023). The y-axis is shown in *metres water equivalent*. This unit (1 m w.e. = 1,000 kg m−2) represents the mass change averaged over the glacier surface and allows comparison of the intensity of mass change in regions of different sizes. "
   ]
  },
  {
   "cell_type": "code",
   "execution_count": null,
   "metadata": {},
   "outputs": [],
   "source": [
    "for filename in list_of_csvs:\n",
    "    if region.value in filename:\n",
    "        region_dataframe = pd.read_csv(filename)\n",
    "\n",
    "single_region_derivative_plot(region_dataframe, region.value, 'metres water equivalent')"
   ]
  },
  {
   "cell_type": "markdown",
   "metadata": {},
   "source": [
    "<div>\n",
    "\n",
    "## <strong>Plot cumulative ice loss for the region that you have chosen</strong>\n",
    "</div>"
   ]
  },
  {
   "cell_type": "markdown",
   "metadata": {},
   "source": [
    "Next we will plot the cumulative change measured in your chosen region, over the full GlaMBIE study period."
   ]
  },
  {
   "cell_type": "code",
   "execution_count": null,
   "metadata": {},
   "outputs": [],
   "source": [
    "# Start with a simple cumulative mwe plot - explain that the following plot shows how many m of ice each region has lost over the last 24 years\n",
    "cumulative_data_all_mwe = derivative_to_cumulative(region_dataframe.start_dates, region_dataframe.end_dates, region_dataframe.combined_mwe)\n",
    "cumulative_errors_all_mwe = derivative_to_cumulative(region_dataframe.start_dates, region_dataframe.end_dates, region_dataframe.combined_mwe_errors, calculate_as_errors=True)"
   ]
  },
  {
   "cell_type": "markdown",
   "metadata": {},
   "source": [
    "The plot below shows the cumulative change in *meters water equivalent*"
   ]
  },
  {
   "cell_type": "code",
   "execution_count": null,
   "metadata": {},
   "outputs": [],
   "source": [
    "single_region_cumulative_plot(cumulative_data_all_mwe, cumulative_errors_all_mwe, region.value, 'metres water equivalent')"
   ]
  },
  {
   "cell_type": "code",
   "execution_count": null,
   "metadata": {},
   "outputs": [],
   "source": [
    "# convert to cumulative changes - Gt\n",
    "cumulative_data_all_gt = derivative_to_cumulative(region_dataframe.start_dates, region_dataframe.end_dates, region_dataframe.combined_gt)\n",
    "cumulative_errors_all_gt = derivative_to_cumulative(region_dataframe.start_dates, region_dataframe.end_dates, region_dataframe.combined_gt_errors, calculate_as_errors=True)\n",
    "\n",
    "cumulative_data_altimetry_gt = derivative_to_cumulative(region_dataframe.start_dates, region_dataframe.end_dates, region_dataframe.altimetry_gt)\n",
    "cumulative_data_gravimetry_gt = derivative_to_cumulative(region_dataframe.start_dates, region_dataframe.end_dates, region_dataframe.gravimetry_gt)\n",
    "cumulative_data_demdiff_and_glaciological_gt = derivative_to_cumulative(region_dataframe.start_dates, region_dataframe.end_dates, region_dataframe.demdiff_and_glaciological_gt)"
   ]
  },
  {
   "cell_type": "markdown",
   "metadata": {},
   "source": [
    "In the next plot we visualise the change for your chosen region in units of Gigatonnes (1 Gt = 1,000,000,000,000 kg). This demonstrates the total mass of ice that has been lost from the region over the GlaMBIE study period. Additionally in this plot, the contributions to the total overall change from the different GlaMBIE observational sources are shown (as dashed lines). These include: altimetry (orange), gravimetry (blue) and DEM differencing & glaciological measurements (pink). For more details on each of these measurement techniques, see the GlaMBIE publication (add link)."
   ]
  },
  {
   "cell_type": "code",
   "execution_count": null,
   "metadata": {},
   "outputs": [],
   "source": [
    "single_region_cumulative_plot(cumulative_data_all_gt, cumulative_errors_all_gt, region.value, 'Gt',\n",
    "                              cumulative_data_altimetry_gt, cumulative_data_gravimetry_gt, cumulative_data_demdiff_and_glaciological_gt)"
   ]
  },
  {
   "cell_type": "markdown",
   "metadata": {},
   "source": [
    "<div>\n",
    "\n",
    "## <strong>Choose an additional region to perform a simple comparison</strong>\n",
    "</div>"
   ]
  },
  {
   "cell_type": "markdown",
   "metadata": {},
   "source": [
    "Use the following dropdown to pick a second GlaMBIE region. "
   ]
  },
  {
   "cell_type": "code",
   "execution_count": null,
   "metadata": {},
   "outputs": [],
   "source": [
    "comparison_region = glambie_regions_dropdown(region.value)\n",
    "comparison_region"
   ]
  },
  {
   "cell_type": "code",
   "execution_count": null,
   "metadata": {},
   "outputs": [],
   "source": [
    "for filename in list_of_csvs:\n",
    "    if comparison_region.value in filename:\n",
    "        region_dataframe_comparison = pd.read_csv(filename)\n",
    "\n",
    "cumulative_data_all_gt_comparison = derivative_to_cumulative(region_dataframe_comparison.start_dates, region_dataframe_comparison.end_dates, region_dataframe_comparison.combined_gt)\n",
    "cumulative_errors_all_gt_comparison = derivative_to_cumulative(region_dataframe_comparison.start_dates, region_dataframe_comparison.end_dates, region_dataframe_comparison.combined_gt_errors, calculate_as_errors=True)\n",
    "\n",
    "cumulative_data_all_mwe_comparison = derivative_to_cumulative(region_dataframe_comparison.start_dates, region_dataframe_comparison.end_dates, region_dataframe_comparison.combined_mwe)\n",
    "cumulative_errors_all_mwe_comparison = derivative_to_cumulative(region_dataframe_comparison.start_dates, region_dataframe_comparison.end_dates, region_dataframe_comparison.combined_mwe_errors, calculate_as_errors=True)"
   ]
  },
  {
   "cell_type": "markdown",
   "metadata": {},
   "source": [
    "In the final plot shown below, we compare the cumulative change for the two regions that you have chosen. In the left panel, we compare the cumulative change in Gt. If you have picked regions that vary signifcantly in size, one may have a much larger total change in Gt. In the right panel, we compare the cumulative change in metres water equivalent, which allows a comparison that removes the impact of glacier area."
   ]
  },
  {
   "cell_type": "code",
   "execution_count": null,
   "metadata": {},
   "outputs": [],
   "source": [
    "two_region_comparison_plot(region.value, comparison_region.value, cumulative_data_all_gt, cumulative_errors_all_gt, cumulative_data_all_gt_comparison,\n",
    "                           cumulative_errors_all_gt_comparison, cumulative_data_all_mwe, cumulative_errors_all_mwe,\n",
    "                           cumulative_data_all_mwe_comparison, cumulative_errors_all_mwe_comparison)\n"
   ]
  }
 ],
 "metadata": {
  "kernelspec": {
   "display_name": "glambie",
   "language": "python",
   "name": "python3"
  },
  "language_info": {
   "codemirror_mode": {
    "name": "ipython",
    "version": 3
   },
   "file_extension": ".py",
   "mimetype": "text/x-python",
   "name": "python",
   "nbconvert_exporter": "python",
   "pygments_lexer": "ipython3",
   "version": "3.9.7"
  }
 },
 "nbformat": 4,
 "nbformat_minor": 2
}
