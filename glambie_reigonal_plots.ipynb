{
 "cells": [
  {
   "cell_type": "code",
   "execution_count": null,
   "metadata": {},
   "outputs": [],
   "source": [
    "from google.cloud.storage import Client\n",
    "import pandas as pd\n",
    "import glob, os\n",
    "import matplotlib.pyplot as plt\n",
    "from pathlib import Path\n",
    "\n",
    "from glambie.util.timeseries_helpers import derivative_to_cumulative\n",
    "\n",
    "import seaborn as sns\n",
    "sns.set_theme(palette='muted', style='whitegrid', font_scale=1.2)"
   ]
  },
  {
   "cell_type": "code",
   "execution_count": null,
   "metadata": {},
   "outputs": [],
   "source": [
    "DATA_TRANSFER_BUCKET_NAME = \"glambie-submissions\"\n",
    "PROJECT_NAME = \"glambie\"\n",
    "storage_client = Client(project=PROJECT_NAME)"
   ]
  },
  {
   "cell_type": "code",
   "execution_count": null,
   "metadata": {},
   "outputs": [],
   "source": [
    "list_of_blobs_in_bucket = storage_client.list_blobs(DATA_TRANSFER_BUCKET_NAME)\n",
    "downloaded_files = []"
   ]
  },
  {
   "cell_type": "code",
   "execution_count": null,
   "metadata": {},
   "outputs": [],
   "source": [
    "for blob in list_of_blobs_in_bucket:\n",
    "    if 'glambie_csvs_to_publish_v2.zip' in blob.name:\n",
    "        downloaded_files.append(blob.name)\n",
    "        destination_file_path = os.path.join(local_path, blob.name)\n",
    "        Path(destination_file_path).parent.mkdir(parents=True, exist_ok=True)\n",
    "        with open(destination_file_path, \"wb\") as output_file:\n",
    "            blob.download_to_file(output_file, raw_download=False)"
   ]
  },
  {
   "cell_type": "code",
   "execution_count": null,
   "metadata": {},
   "outputs": [],
   "source": [
    "temporal_option = 'hydrological_years'\n",
    "data_directory = local_path + 'glambie_csvs_to_publish' + '/' + temporal_option"
   ]
  },
  {
   "cell_type": "code",
   "execution_count": null,
   "metadata": {},
   "outputs": [],
   "source": [
    "list_of_csvs = sorted(glob.glob(os.path.join(data_directory, '*.csv')))"
   ]
  },
  {
   "cell_type": "code",
   "execution_count": null,
   "metadata": {},
   "outputs": [],
   "source": [
    "# choose a region\n",
    "region = 'arctic_canada_south'"
   ]
  },
  {
   "cell_type": "code",
   "execution_count": null,
   "metadata": {},
   "outputs": [],
   "source": [
    "for filename in list_of_csvs:\n",
    "    if region in filename:\n",
    "        region_dataframe = pd.read_csv(filename)"
   ]
  },
  {
   "cell_type": "code",
   "execution_count": null,
   "metadata": {},
   "outputs": [],
   "source": [
    "plt.subplots(1, 1, figsize=(12,8))\n",
    "\n",
    "plt.plot(region_dataframe.end_dates, region_dataframe.consensus_mwe, linewidth=3, zorder=2, label='Consensus change')\n",
    "plt.fill_between(region_dataframe.end_dates, region_dataframe.consensus_mwe - region_dataframe.consensus_mwe_errors, region_dataframe.consensus_mwe + region_dataframe.consensus_mwe_errors, alpha=0.2)\n",
    "plt.hlines(0, region_dataframe.end_dates.values[0], region_dataframe.end_dates.values[-1], linestyle='dashed', color='purple')\n",
    "plt.xlabel('Year')\n",
    "plt.ylabel('Elevation Change (meters water equivalent)')\n",
    "plt.title(transform_string(region) + ' - change in elevation between 2000 and 2024')\n",
    "\n",
    "plt.legend()"
   ]
  },
  {
   "cell_type": "code",
   "execution_count": null,
   "metadata": {},
   "outputs": [],
   "source": [
    "# Start with a simple mwe plot - explain that the following plot shows how many m of ice each region has lost over the last 24 years\n",
    "cumulative_data_all_mwe = derivative_to_cumulative(region_dataframe.start_dates, region_dataframe.end_dates, region_dataframe.consensus_mwe, return_type='dataframe')\n",
    "cumulative_errors_all_mwe = derivative_to_cumulative(region_dataframe.start_dates, region_dataframe.end_dates, region_dataframe.consensus_mwe_errors, return_type='dataframe', calculate_as_errors=True)"
   ]
  },
  {
   "cell_type": "code",
   "execution_count": null,
   "metadata": {},
   "outputs": [],
   "source": [
    "plt.subplots(1, 1, figsize=(12,8))\n",
    "\n",
    "plt.plot(cumulative_data_all_mwe.dates, cumulative_data_all_mwe.changes, linewidth=3, zorder=2, label='Consensus change')\n",
    "plt.fill_between(cumulative_data_all_mwe.dates, cumulative_data_all_mwe.changes - cumulative_errors_all_mwe.errors, cumulative_data_all_mwe.changes + cumulative_errors_all_mwe.errors, alpha=0.2)#\n",
    "plt.xlabel('Year')\n",
    "plt.ylabel('Cumulative Change [meters water equivalent]')\n",
    "plt.title(transform_string(region) + ' - ice loss between 2000 and 2024')\n",
    "\n",
    "plt.legend()"
   ]
  },
  {
   "cell_type": "code",
   "execution_count": null,
   "metadata": {},
   "outputs": [],
   "source": [
    "# convert to cumulative changes - Gt all\n",
    "cumulative_data_all_gt = derivative_to_cumulative(region_dataframe.start_dates, region_dataframe.end_dates, region_dataframe.consensus_gt, return_type='dataframe')\n",
    "cumulative_errors_all_gt = derivative_to_cumulative(region_dataframe.start_dates, region_dataframe.end_dates, region_dataframe.consensus_gt_errors, return_type='dataframe', calculate_as_errors=True)"
   ]
  },
  {
   "cell_type": "code",
   "execution_count": null,
   "metadata": {},
   "outputs": [],
   "source": [
    "cumulative_data_altimetry_gt = derivative_to_cumulative(region_dataframe.start_dates, region_dataframe.end_dates, region_dataframe.altimetry_gt, return_type='dataframe')\n",
    "cumulative_data_gravimetry_gt = derivative_to_cumulative(region_dataframe.start_dates, region_dataframe.end_dates, region_dataframe.gravimetry_gt, return_type='dataframe')\n",
    "cumulative_data_demdiff_and_glaciological_gt = derivative_to_cumulative(region_dataframe.start_dates, region_dataframe.end_dates, region_dataframe.demdiff_and_glaciological_gt, return_type='dataframe')"
   ]
  },
  {
   "cell_type": "code",
   "execution_count": null,
   "metadata": {},
   "outputs": [],
   "source": [
    "plt.subplots(1, 1, figsize=(12,8))\n",
    "\n",
    "plt.plot(cumulative_data_all_gt.dates, cumulative_data_all_gt.changes, linewidth=3, zorder=2, label='Consensus change')\n",
    "plt.fill_between(cumulative_data_all_gt.dates, cumulative_data_all_gt.changes - cumulative_errors_all_gt.errors, cumulative_data_all_gt.changes + cumulative_errors_all_gt.errors, alpha=0.2)#\n",
    "plt.plot(cumulative_data_altimetry_gt.dates, cumulative_data_altimetry_gt.changes, linestyle='dashed', zorder=1, alpha=0.7, label='Altimetry')\n",
    "plt.plot(cumulative_data_gravimetry_gt.dates, cumulative_data_gravimetry_gt.changes, linestyle='dashed', zorder=1, alpha=0.7, label='Gravimetry')\n",
    "plt.plot(cumulative_data_demdiff_and_glaciological_gt.dates, cumulative_data_demdiff_and_glaciological_gt.changes, linestyle='dashed', zorder=1, alpha=0.7, label='DemDiff and Glaciological')\n",
    "plt.xlabel('Year')\n",
    "plt.ylabel('Cumulative Change [Gt]')\n",
    "plt.title(transform_string(region) + ' - Gt of ice loss between 2000 and 2024')\n",
    "\n",
    "plt.legend(loc='lower left')"
   ]
  },
  {
   "cell_type": "code",
   "execution_count": null,
   "metadata": {},
   "outputs": [],
   "source": [
    "# Compare to another region?\n",
    "comparison_region = 'arctic_canada_north'"
   ]
  },
  {
   "cell_type": "code",
   "execution_count": null,
   "metadata": {},
   "outputs": [],
   "source": [
    "for filename in list_of_csvs:\n",
    "    if comparison_region in filename:\n",
    "        region_dataframe_comparison = pd.read_csv(filename)"
   ]
  },
  {
   "cell_type": "code",
   "execution_count": null,
   "metadata": {},
   "outputs": [],
   "source": [
    "plt.subplots(1, 1, figsize=(12,8))\n",
    "\n",
    "plt.plot(cumulative_data_all_gt.dates, cumulative_data_all_gt.changes, linewidth=3, zorder=2, label='Consensus change - ' + transform_string(region))\n",
    "plt.fill_between(cumulative_data_all_gt.dates, cumulative_data_all_gt.changes - cumulative_errors_all_gt.errors, cumulative_data_all_gt.changes + cumulative_errors_all_gt.errors, alpha=0.2)\n",
    "\n",
    "plt.plot(cumulative_data_all_gt_comparison.dates, cumulative_data_all_gt_comparison.changes, linewidth=3, zorder=2, label='Consensus change - ' + transform_string(comparison_region))\n",
    "plt.fill_between(cumulative_data_all_gt_comparison.dates, cumulative_data_all_gt_comparison.changes - cumulative_errors_all_gt_comparison.errors, cumulative_data_all_gt_comparison.changes + cumulative_errors_all_gt_comparison.errors, alpha=0.2)\n",
    "\n",
    "plt.xlabel('Year')\n",
    "plt.ylabel('Cumulative Change [Gt]')\n",
    "plt.title('Regional comparison - Gt of ice loss between 2000 and 2024')\n",
    "\n",
    "plt.legend()"
   ]
  }
 ],
 "metadata": {
  "language_info": {
   "name": "python"
  }
 },
 "nbformat": 4,
 "nbformat_minor": 2
}
