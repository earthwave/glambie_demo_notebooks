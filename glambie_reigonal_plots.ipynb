{
 "cells": [
  {
   "cell_type": "markdown",
   "metadata": {},
   "source": [
    "<img style=\"float: right;\" src=\"images/Earthwave_logo.png\" alt=\"earthwave\" width=\"90\"/> <img style=\"float: right;\" src=\"images/UZH_logo.jpg\" alt=\"uzh\" width=\"200\"/> <img style=\"float: right;\" src=\"images/ESA_logo.png\" alt=\"esa\" width=\"150\"/>\n"
   ]
  },
  {
   "cell_type": "markdown",
   "metadata": {},
   "source": [
    "<img src=\"images/GlaMBIE_logo.png\" alt=\"logo\" width=\"400\"/>"
   ]
  },
  {
   "cell_type": "markdown",
   "metadata": {},
   "source": [
    "#<strong><font color='#11847C'> Gla</font>cier <font color='#11847C'>M</font>ass <font color='#11847C'>B</font>alance <font color='#11847C'>I</font>ntercomparison <font color='#11847C'>E</font>xercise - *A community effort to reconcile measurements of glacier mass balance*</strong>"
   ]
  },
  {
   "cell_type": "markdown",
   "metadata": {},
   "source": [
    "##<strong> This Jupyter Notebook can be used to explore and visualise the final results from the Glacier Mass Balance Intercomparison Exercise (GlaMBIE). In the following code, you can choose from the 19 regions covered by the GlaMBIE project, and investigate the findings, including the mass change of the region."
   ]
  },
  {
   "cell_type": "markdown",
   "metadata": {},
   "source": [
    "<div>\n",
    "\n",
    "## <strong>Getting started</strong>\n",
    "</div>\n",
    "\n",
    "First, we import the necessary packages"
   ]
  },
  {
   "cell_type": "code",
   "execution_count": 1,
   "metadata": {},
   "outputs": [],
   "source": [
    "from google.cloud.storage import Client\n",
    "import pandas as pd\n",
    "import numpy as np\n",
    "import glob, os\n",
    "import matplotlib.pyplot as plt\n",
    "from pathlib import Path\n",
    "\n",
    "import seaborn as sns\n",
    "sns.set_theme(palette='muted', style='whitegrid', font_scale=1.2)"
   ]
  },
  {
   "cell_type": "code",
   "execution_count": null,
   "metadata": {},
   "outputs": [],
   "source": [
    "def derivative_to_cumulative(start_dates, end_dates, changes, calculate_as_errors):\n",
    "\n",
    "    contains_no_gaps = [start_date == end_date for start_date, end_date in zip(start_dates[1:], end_dates[:-1])]\n",
    "    # add an extra row to dataset for each gap, so that it's represented in the cumulative timeseries as no data\n",
    "    if calculate_as_errors:\n",
    "        changes = [0, *np.array(pd.Series(np.square(changes)).cumsum())**0.5]\n",
    "    else:\n",
    "        changes = [0, *np.array(pd.Series(changes).cumsum())]\n",
    "\n",
    "    if not all(contains_no_gaps):\n",
    "        indices_of_gaps = [i for i, x in enumerate(contains_no_gaps) if not (x)]\n",
    "        start_dates = list(start_dates.copy())\n",
    "        end_dates = list(end_dates.copy())\n",
    "        for idx in indices_of_gaps:\n",
    "            start_date_to_insert = end_dates[idx]\n",
    "            end_date_to_insert = start_dates[idx + 1]\n",
    "            # add no data row\n",
    "            start_dates.insert(idx + 1, start_date_to_insert)\n",
    "            end_dates.insert(idx + 1, end_date_to_insert)\n",
    "            changes.insert(idx + 2, None)  # already in cumulative, hence +2\n",
    "            # add last row before gap again after gap\n",
    "            start_dates.insert(idx + 2, start_dates[idx + 1])\n",
    "            end_dates.insert(idx + 2, end_dates[idx + 1])\n",
    "            changes.insert(idx + 3, changes[idx + 1])  # already in cumulative, hence +3\n",
    "    dates = [start_dates[0], *end_dates]\n",
    "\n",
    "    if calculate_as_errors:\n",
    "        return pd.DataFrame({'dates': dates, 'errors': changes})\n",
    "    else:\n",
    "        return pd.DataFrame({'dates': dates, 'changes': changes})"
   ]
  },
  {
   "cell_type": "code",
   "execution_count": null,
   "metadata": {},
   "outputs": [],
   "source": [
    "def transform_string(input_string):\n",
    "    transformed_string = input_string.replace('_', ' ')\n",
    "    capitalized_string = transformed_string.title()\n",
    "    return capitalized_string"
   ]
  },
  {
   "cell_type": "markdown",
   "metadata": {},
   "source": [
    "Next, we download the results of GlaMBIE from the WGMS server (*add more info here once the data is hosted in the final location*)"
   ]
  },
  {
   "cell_type": "code",
   "execution_count": null,
   "metadata": {},
   "outputs": [],
   "source": [
    "# replace this once data is available on WGMS server\n",
    "DATA_TRANSFER_BUCKET_NAME = \"glambie-submissions\"\n",
    "PROJECT_NAME = \"glambie\"\n",
    "storage_client = Client(project=PROJECT_NAME)\n",
    "\n",
    "list_of_blobs_in_bucket = storage_client.list_blobs(DATA_TRANSFER_BUCKET_NAME)\n",
    "downloaded_files = []\n",
    "\n",
    "for blob in list_of_blobs_in_bucket:\n",
    "    if 'glambie_csvs_to_publish_v2.zip' in blob.name:\n",
    "        downloaded_files.append(blob.name)\n",
    "        destination_file_path = os.path.join(blob.name)\n",
    "        Path(destination_file_path).parent.mkdir(parents=True, exist_ok=True)\n",
    "        with open(destination_file_path, \"wb\") as output_file:\n",
    "            blob.download_to_file(output_file, raw_download=False)"
   ]
  },
  {
   "cell_type": "markdown",
   "metadata": {},
   "source": [
    "Each of the results files is downloaded to the current Colab working environment."
   ]
  },
  {
   "cell_type": "markdown",
   "metadata": {},
   "source": [
    "<div>\n",
    "\n",
    "## <strong>Choose a region</strong>\n",
    "</div>\n",
    "\n",
    "In this section, you can pick from the 19 RGI regions. The region that you chose will be read in from file."
   ]
  },
  {
   "cell_type": "code",
   "execution_count": null,
   "metadata": {},
   "outputs": [],
   "source": [
    "local_path = '/data/ox1/working/glambie/demo_notebooks'"
   ]
  },
  {
   "cell_type": "code",
   "execution_count": null,
   "metadata": {},
   "outputs": [],
   "source": [
    "temporal_option = 'hydrological_years'\n",
    "data_directory = local_path + 'glambie_csvs_to_publish' + '/' + temporal_option"
   ]
  },
  {
   "cell_type": "code",
   "execution_count": null,
   "metadata": {},
   "outputs": [],
   "source": [
    "list_of_csvs = sorted(glob.glob(os.path.join(data_directory, '*.csv')))"
   ]
  },
  {
   "cell_type": "code",
   "execution_count": null,
   "metadata": {},
   "outputs": [],
   "source": [
    "# choose a region\n",
    "region = 'arctic_canada_south'"
   ]
  },
  {
   "cell_type": "code",
   "execution_count": null,
   "metadata": {},
   "outputs": [],
   "source": [
    "for filename in list_of_csvs:\n",
    "    if region in filename:\n",
    "        region_dataframe = pd.read_csv(filename)"
   ]
  },
  {
   "cell_type": "code",
   "execution_count": null,
   "metadata": {},
   "outputs": [],
   "source": [
    "plt.subplots(1, 1, figsize=(12,8))\n",
    "\n",
    "plt.plot(region_dataframe.end_dates, region_dataframe.consensus_mwe, linewidth=3, zorder=2, label='Consensus change')\n",
    "plt.fill_between(region_dataframe.end_dates, region_dataframe.consensus_mwe - region_dataframe.consensus_mwe_errors, region_dataframe.consensus_mwe + region_dataframe.consensus_mwe_errors, alpha=0.2)\n",
    "plt.hlines(0, region_dataframe.end_dates.values[0], region_dataframe.end_dates.values[-1], linestyle='dashed', color='purple')\n",
    "plt.xlabel('Year')\n",
    "plt.ylabel('Elevation Change (meters water equivalent)')\n",
    "plt.title(transform_string(region) + ' - change in elevation between 2000 and 2024')\n",
    "\n",
    "plt.legend()"
   ]
  },
  {
   "cell_type": "markdown",
   "metadata": {},
   "source": [
    "<div>\n",
    "\n",
    "## <strong>Plot ice loss for the reigon you have chosen</strong>\n",
    "</div>"
   ]
  },
  {
   "cell_type": "code",
   "execution_count": null,
   "metadata": {},
   "outputs": [],
   "source": [
    "# Start with a simple mwe plot - explain that the following plot shows how many m of ice each region has lost over the last 24 years\n",
    "cumulative_data_all_mwe = derivative_to_cumulative(region_dataframe.start_dates, region_dataframe.end_dates, region_dataframe.consensus_mwe, return_type='dataframe')\n",
    "cumulative_errors_all_mwe = derivative_to_cumulative(region_dataframe.start_dates, region_dataframe.end_dates, region_dataframe.consensus_mwe_errors, return_type='dataframe', calculate_as_errors=True)"
   ]
  },
  {
   "cell_type": "code",
   "execution_count": null,
   "metadata": {},
   "outputs": [],
   "source": [
    "plt.subplots(1, 1, figsize=(12,8))\n",
    "\n",
    "plt.plot(cumulative_data_all_mwe.dates, cumulative_data_all_mwe.changes, linewidth=3, zorder=2, label='Consensus change')\n",
    "plt.fill_between(cumulative_data_all_mwe.dates, cumulative_data_all_mwe.changes - cumulative_errors_all_mwe.errors, cumulative_data_all_mwe.changes + cumulative_errors_all_mwe.errors, alpha=0.2)#\n",
    "plt.xlabel('Year')\n",
    "plt.ylabel('Cumulative Change [meters water equivalent]')\n",
    "plt.title(transform_string(region) + ' - ice loss between 2000 and 2024')\n",
    "\n",
    "plt.legend()"
   ]
  },
  {
   "cell_type": "code",
   "execution_count": null,
   "metadata": {},
   "outputs": [],
   "source": [
    "# convert to cumulative changes - Gt all\n",
    "cumulative_data_all_gt = derivative_to_cumulative(region_dataframe.start_dates, region_dataframe.end_dates, region_dataframe.consensus_gt, return_type='dataframe')\n",
    "cumulative_errors_all_gt = derivative_to_cumulative(region_dataframe.start_dates, region_dataframe.end_dates, region_dataframe.consensus_gt_errors, return_type='dataframe', calculate_as_errors=True)"
   ]
  },
  {
   "cell_type": "code",
   "execution_count": null,
   "metadata": {},
   "outputs": [],
   "source": [
    "cumulative_data_altimetry_gt = derivative_to_cumulative(region_dataframe.start_dates, region_dataframe.end_dates, region_dataframe.altimetry_gt, return_type='dataframe')\n",
    "cumulative_data_gravimetry_gt = derivative_to_cumulative(region_dataframe.start_dates, region_dataframe.end_dates, region_dataframe.gravimetry_gt, return_type='dataframe')\n",
    "cumulative_data_demdiff_and_glaciological_gt = derivative_to_cumulative(region_dataframe.start_dates, region_dataframe.end_dates, region_dataframe.demdiff_and_glaciological_gt, return_type='dataframe')"
   ]
  },
  {
   "cell_type": "code",
   "execution_count": null,
   "metadata": {},
   "outputs": [],
   "source": [
    "plt.subplots(1, 1, figsize=(12,8))\n",
    "\n",
    "plt.plot(cumulative_data_all_gt.dates, cumulative_data_all_gt.changes, linewidth=3, zorder=2, label='Consensus change')\n",
    "plt.fill_between(cumulative_data_all_gt.dates, cumulative_data_all_gt.changes - cumulative_errors_all_gt.errors, cumulative_data_all_gt.changes + cumulative_errors_all_gt.errors, alpha=0.2)#\n",
    "plt.plot(cumulative_data_altimetry_gt.dates, cumulative_data_altimetry_gt.changes, linestyle='dashed', zorder=1, alpha=0.7, label='Altimetry')\n",
    "plt.plot(cumulative_data_gravimetry_gt.dates, cumulative_data_gravimetry_gt.changes, linestyle='dashed', zorder=1, alpha=0.7, label='Gravimetry')\n",
    "plt.plot(cumulative_data_demdiff_and_glaciological_gt.dates, cumulative_data_demdiff_and_glaciological_gt.changes, linestyle='dashed', zorder=1, alpha=0.7, label='DemDiff and Glaciological')\n",
    "plt.xlabel('Year')\n",
    "plt.ylabel('Cumulative Change [Gt]')\n",
    "plt.title(transform_string(region) + ' - Gt of ice loss between 2000 and 2024')\n",
    "\n",
    "plt.legend(loc='lower left')"
   ]
  },
  {
   "cell_type": "code",
   "execution_count": null,
   "metadata": {},
   "outputs": [],
   "source": [
    "# Compare to another region?\n",
    "comparison_region = 'arctic_canada_north'"
   ]
  },
  {
   "cell_type": "code",
   "execution_count": null,
   "metadata": {},
   "outputs": [],
   "source": [
    "for filename in list_of_csvs:\n",
    "    if comparison_region in filename:\n",
    "        region_dataframe_comparison = pd.read_csv(filename)"
   ]
  },
  {
   "cell_type": "code",
   "execution_count": null,
   "metadata": {},
   "outputs": [],
   "source": [
    "plt.subplots(1, 1, figsize=(12,8))\n",
    "\n",
    "plt.plot(cumulative_data_all_gt.dates, cumulative_data_all_gt.changes, linewidth=3, zorder=2, label='Consensus change - ' + transform_string(region))\n",
    "plt.fill_between(cumulative_data_all_gt.dates, cumulative_data_all_gt.changes - cumulative_errors_all_gt.errors, cumulative_data_all_gt.changes + cumulative_errors_all_gt.errors, alpha=0.2)\n",
    "\n",
    "plt.plot(cumulative_data_all_gt_comparison.dates, cumulative_data_all_gt_comparison.changes, linewidth=3, zorder=2, label='Consensus change - ' + transform_string(comparison_region))\n",
    "plt.fill_between(cumulative_data_all_gt_comparison.dates, cumulative_data_all_gt_comparison.changes - cumulative_errors_all_gt_comparison.errors, cumulative_data_all_gt_comparison.changes + cumulative_errors_all_gt_comparison.errors, alpha=0.2)\n",
    "\n",
    "plt.xlabel('Year')\n",
    "plt.ylabel('Cumulative Change [Gt]')\n",
    "plt.title('Regional comparison - Gt of ice loss between 2000 and 2024')\n",
    "\n",
    "plt.legend()"
   ]
  }
 ],
 "metadata": {
  "kernelspec": {
   "display_name": "glambie",
   "language": "python",
   "name": "python3"
  },
  "language_info": {
   "codemirror_mode": {
    "name": "ipython",
    "version": 3
   },
   "file_extension": ".py",
   "mimetype": "text/x-python",
   "name": "python",
   "nbconvert_exporter": "python",
   "pygments_lexer": "ipython3",
   "version": "3.9.7"
  }
 },
 "nbformat": 4,
 "nbformat_minor": 2
}
