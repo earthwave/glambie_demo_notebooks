{
 "cells": [
  {
   "cell_type": "code",
   "execution_count": null,
   "metadata": {},
   "outputs": [],
   "source": [
    "from google.cloud.storage import Client\n",
    "import pandas as pd\n",
    "import glob, os\n",
    "import matplotlib.pyplot as plt\n",
    "from pathlib import Path\n",
    "\n",
    "from glambie.util.timeseries_helpers import derivative_to_cumulative\n",
    "\n",
    "import seaborn as sns\n",
    "sns.set_theme(palette='muted', style='whitegrid', font_scale=1.2)"
   ]
  },
  {
   "cell_type": "code",
   "execution_count": null,
   "metadata": {},
   "outputs": [],
   "source": [
    "DATA_TRANSFER_BUCKET_NAME = \"glambie-submissions\"\n",
    "PROJECT_NAME = \"glambie\"\n",
    "storage_client = Client(project=PROJECT_NAME)"
   ]
  },
  {
   "cell_type": "code",
   "execution_count": null,
   "metadata": {},
   "outputs": [],
   "source": [
    "list_of_blobs_in_bucket = storage_client.list_blobs(DATA_TRANSFER_BUCKET_NAME)\n",
    "downloaded_files = []"
   ]
  },
  {
   "cell_type": "code",
   "execution_count": null,
   "metadata": {},
   "outputs": [],
   "source": [
    "for blob in list_of_blobs_in_bucket:\n",
    "    if 'glambie_csvs_to_publish_v2.zip' in blob.name:\n",
    "        downloaded_files.append(blob.name)\n",
    "        destination_file_path = os.path.join(local_path, blob.name)\n",
    "        Path(destination_file_path).parent.mkdir(parents=True, exist_ok=True)\n",
    "        with open(destination_file_path, \"wb\") as output_file:\n",
    "            blob.download_to_file(output_file, raw_download=False)"
   ]
  },
  {
   "cell_type": "code",
   "execution_count": null,
   "metadata": {},
   "outputs": [],
   "source": [
    "temporal_option = 'hydrological_years'\n",
    "data_directory = local_path + 'glambie_csvs_to_publish' + '/' + temporal_option"
   ]
  },
  {
   "cell_type": "code",
   "execution_count": null,
   "metadata": {},
   "outputs": [],
   "source": [
    "list_of_csvs = sorted(glob.glob(os.path.join(data_directory, '*.csv')))"
   ]
  },
  {
   "cell_type": "code",
   "execution_count": null,
   "metadata": {},
   "outputs": [],
   "source": [
    "# choose a region\n",
    "region = 'arctic_canada_south'"
   ]
  },
  {
   "cell_type": "code",
   "execution_count": null,
   "metadata": {},
   "outputs": [],
   "source": [
    "for filename in list_of_csvs:\n",
    "    if region in filename:\n",
    "        region_dataframe = pd.read_csv(filename)"
   ]
  }
 ],
 "metadata": {
  "language_info": {
   "name": "python"
  }
 },
 "nbformat": 4,
 "nbformat_minor": 2
}
